{
 "cells": [
  {
   "cell_type": "markdown",
   "metadata": {},
   "source": [
    "# Langkah – langkah instal python\n",
    "\n",
    "- Download installer python pada web resmi https://www.python.org/downloads/ sesuai dengan sistem operasi yang digunakan\n",
    "- Setelah download selesai, buka file tempat menyimpan hasil download python tersebut. Klik 2 kali lalu ceklis pilihan Add Python 3.6 to PATH agar python bisa diakses dari lokasi mana saja lalu klik Install Now.\n",
    "- Untuk memastikan jika python telah terinsal, ketik pada cmd python –version dan pip –version. Maka akan terlihat jika python dan pip sudah terinstal serta versi dari python dan pip.\n",
    "\n",
    "\n",
    "\n",
    "# Kata Kunci dan Pengenal (Identifier)\n",
    "\n",
    "Kata kunci adalah kata – kata yang sudah ditetapkan dan dipakai Python untuk mendefinisikan sintaks dan struktur bahasa python sendiri. Kata kunci tidak bisa digunakan sebagai nama variabel, fungsi, maupun nama untuk pengenal lainnya.\n",
    "Keyword bersifat case sensitive. Artinya huruf besar berbeda dengan huruf kecil. Sejauh ini, ada 33 kata kunci di Python. Semua kata kunci menggunakan huruf kecil kecuali True, False, dan None.\n",
    "\n",
    "#### Pengenal (Identifier) Python\n",
    "Pengenal adalah nama yang diberikan untuk menamai hal di python seperti variabel, fungsi, kelas, dan lain sebagainya. Fungsinya adalah untuk membedakan antara satu entitas dengan yang lainnya.\n",
    "\n",
    "#### Aturan Penulisan Pengenal \n",
    "- Pengenal bisa terdiri dari kombinasi huruf kecil (a-z) atau huruf besar (A-Z), angka ( 0-9 ), dan underscore ( _ ). namaKaryawan, bilangan_2, dan jenis_kenderaan_umum adalah nama variabel yang valid.\n",
    "- Pengenal tidak bisa dimulai menggunakan angka. 1nama adalah invalid sedangkan nama1 adalah valid.\n",
    "- Kata kunci tidak bisa dipakai sebagai nama pengenal.\n",
    "- Karakter spesial seperti !, @, %, $, dan sebagainya tidak bisa digunakan sebagai pengenal.\n",
    "- Python bersifat case sensitive. Huruf besar dan kecil dianggap berbeda. Jadi Variabel, variabel, dan VARIABEL, adalah 3 buah nama yang berbeda.\n",
    "\n",
    "# Variabel dan Tipe Data Python\n",
    "\n",
    "Variabel adalah lokasi di memori yang digunakan untuk menyimpan nilai. Pada saat kita membuat sebuah variabel, kita ‘memesan’ tempat di dalam memori. Tempat tersebut bisa diisi dengan data atau objek, baik itu bilangan bulat (integer), pecahan (float), karakter (string), dan lain – lain.\n",
    "\n",
    "### Memberi Nilai Variabel\n",
    "- Di python, variabel tidak perlu dideklarasikan secara eksplisit. Deklarasi atau pembuatan variabel terjadi secara otomatis pada saat kita memberi (menugaskan) suatu nilai ke variabel. Tanda sama dengan ( = ) digunakan untuk memberikan nilai ke variabel.\n",
    "- Operand di sebelah kiri tanda = adalah nama variabel dan di sebelah kanan tanda = adalah nilai yang disimpan di dalam variabel."
   ]
  },
  {
   "cell_type": "code",
   "execution_count": 21,
   "metadata": {},
   "outputs": [
    {
     "name": "stdout",
     "output_type": "stream",
     "text": [
      "16\n",
      "28.1\n",
      "Sartika\n"
     ]
    }
   ],
   "source": [
    "panjang = 16 # tipe data integer\n",
    "lebar = 28.1 # tipe data float\n",
    "nama = \"Sartika\" # tipe string\n",
    "print(panjang)\n",
    "print(lebar)\n",
    "print(nama)"
   ]
  },
  {
   "cell_type": "markdown",
   "metadata": {},
   "source": [
    "# Tipe Data Python\n",
    "\n",
    "Data yang disimpan di memori memiliki tipe yang berbeda – beda. Misalnya untuk panjang, akan disimpan dengan tipe bilangan. Nama orang akan disimpan dalam tipe string/karakter. Suhu akan disimpan dalam bentuk bilangan berkoma. Dan lain sebagainya. Masing – masing tipe data akan memiliki operasi yang berbeda – beda."
   ]
  },
  {
   "cell_type": "code",
   "execution_count": 22,
   "metadata": {},
   "outputs": [
    {
     "name": "stdout",
     "output_type": "stream",
     "text": [
      "String :  Sartika Dewi Mulyani\n"
     ]
    }
   ],
   "source": [
    "#tipe data string\n",
    "print(\"String : \",\"Sartika Dewi Mulyani\")"
   ]
  },
  {
   "cell_type": "code",
   "execution_count": 23,
   "metadata": {},
   "outputs": [
    {
     "name": "stdout",
     "output_type": "stream",
     "text": [
      "Integer :  21\n"
     ]
    }
   ],
   "source": [
    "#tipe data integer(int)\n",
    "print(\"Integer : \",21)"
   ]
  },
  {
   "cell_type": "code",
   "execution_count": 24,
   "metadata": {},
   "outputs": [
    {
     "name": "stdout",
     "output_type": "stream",
     "text": [
      "Float :  3.14\n"
     ]
    }
   ],
   "source": [
    "#tipe data float\n",
    "print(\"Float : \",3.14)"
   ]
  },
  {
   "cell_type": "code",
   "execution_count": 25,
   "metadata": {},
   "outputs": [
    {
     "name": "stdout",
     "output_type": "stream",
     "text": [
      "Hexadecimal :  9j\n"
     ]
    }
   ],
   "source": [
    "#tipe data Hexadecimal\n",
    "print(\"Hexadecimal : \",9j)"
   ]
  },
  {
   "cell_type": "code",
   "execution_count": 26,
   "metadata": {},
   "outputs": [
    {
     "name": "stdout",
     "output_type": "stream",
     "text": [
      "Complex :  5j\n"
     ]
    }
   ],
   "source": [
    "#tipe data Complex\n",
    "print(\"Complex : \",5j)"
   ]
  },
  {
   "cell_type": "code",
   "execution_count": 27,
   "metadata": {},
   "outputs": [
    {
     "name": "stdout",
     "output_type": "stream",
     "text": [
      "List String :  ['Sartika', 'Dewi', 'Mulyani']\n",
      "List Angka :  [1, 2, 3, 4, 5]\n"
     ]
    }
   ],
   "source": [
    "#tipe data List\n",
    "print(\"List String : \",[\"Sartika\",\"Dewi\",\"Mulyani\"])\n",
    "print(\"List Angka : \",[1,2,3,4,5])"
   ]
  },
  {
   "cell_type": "code",
   "execution_count": 28,
   "metadata": {},
   "outputs": [
    {
     "name": "stdout",
     "output_type": "stream",
     "text": [
      "Tuple String :  ('Sartika', 'Dewi', 'Mulyani')\n",
      "Tuple Angka :  (1, 2, 3, 4, 5)\n"
     ]
    }
   ],
   "source": [
    "#tipe data Tuple\n",
    "print(\"Tuple String : \",(\"Sartika\",\"Dewi\",\"Mulyani\"))\n",
    "print(\"Tuple Angka : \",(1,2,3,4,5))"
   ]
  },
  {
   "cell_type": "code",
   "execution_count": 29,
   "metadata": {},
   "outputs": [
    {
     "name": "stdout",
     "output_type": "stream",
     "text": [
      "Dictionary :  {'Nama : ': 'Sartika Dewi Mulyani', 'Umur : ': 17}\n"
     ]
    }
   ],
   "source": [
    "#tipe data dictionary\n",
    "print(\"Dictionary : \",{\"Nama : \": \"Sartika Dewi Mulyani\", \"Umur : \":17})"
   ]
  },
  {
   "cell_type": "code",
   "execution_count": 30,
   "metadata": {},
   "outputs": [
    {
     "name": "stdout",
     "output_type": "stream",
     "text": [
      "Boolean :  True\n"
     ]
    }
   ],
   "source": [
    "#tipe data boolean\n",
    "print(\"Boolean : \",True)"
   ]
  },
  {
   "cell_type": "markdown",
   "metadata": {},
   "source": [
    "# Operator Python\n",
    "\n",
    "Operator adalah simbol tertentu yang digunakan untuk melakukan operasi aritmatika maupun logika. Nilai yang padanya dilakukan operasi disebut operand. Misalnya adalah  2 + 3. Di sini tanda + adalah operator penjumlahan. 2 dan 3 adalah operand."
   ]
  },
  {
   "cell_type": "markdown",
   "metadata": {},
   "source": [
    "### Operator Aritmatika\n",
    "\n",
    "Operator aritmatika adalah operator yang digunakan untuk melakukan operasi matematika, seperti penjumlahan, pengurangan, perkalian, pembagian, dan sebagainya."
   ]
  },
  {
   "cell_type": "code",
   "execution_count": 32,
   "metadata": {},
   "outputs": [
    {
     "name": "stdout",
     "output_type": "stream",
     "text": [
      "Hasilnya adalah  16\n",
      "Sisa hutang Anda adalah  5000\n",
      "Luasnya adalah  120\n",
      "Setiap anak akan mendapatkan bagian kue sebanyak : 4.0\n",
      "Sisa bagi dari bilangan  14  dan  5  adalah  4\n",
      "Hasil Sisa Pangkat adalah  64\n",
      "Hasil dari pembagian bulat adalah  3\n"
     ]
    }
   ],
   "source": [
    "#Penjumlahan +\n",
    "apel = 7\n",
    "jeruk = 9\n",
    "buah = apel + jeruk #\n",
    "print(\"Hasilnya adalah \", buah)\n",
    "\n",
    "#Pengurangan -\n",
    "hutang = 10000\n",
    "bayar = 5000\n",
    "sisaHutang = hutang - bayar\n",
    "print(\"Sisa hutang Anda adalah \", sisaHutang)\n",
    "\n",
    "#Perkalian *\n",
    "panjang = 15\n",
    "lebar = 8\n",
    "luas = panjang * lebar\n",
    "print(\"Luasnya adalah \", luas)\n",
    "\n",
    "#Pembagian /\n",
    "kue = 16\n",
    "anak = 4\n",
    "kuePerAnak = kue / anak\n",
    "print(\"Setiap anak akan mendapatkan bagian kue sebanyak :\", kuePerAnak)\n",
    "\n",
    "#Sisa Bagi / Modulus %\n",
    "bilangan1 = 14\n",
    "bilangan2 = 5\n",
    "hasil = bilangan1 % bilangan2\n",
    "print(\"Sisa bagi dari bilangan \", bilangan1, \" dan \", bilangan2, \" adalah \", hasil)\n",
    "\n",
    "#Pangkat **\n",
    "bilangan3 = 8\n",
    "bilangan4 = 2\n",
    "hasilPangkat = bilangan3 ** bilangan4\n",
    "print(\"Hasil Sisa Pangkat adalah \", hasilPangkat)\n",
    "\n",
    "#Pembagian Bulat //\n",
    "print(\"Hasil dari pembagian bulat adalah \", 10//3)"
   ]
  },
  {
   "cell_type": "markdown",
   "metadata": {},
   "source": [
    "### Operator Perbandingan\n",
    "\n",
    "Operator perbandingan adalah operator yang digunakan untuk membandingkan 2 buah nilai. Hasil perbandingannya adalah True atau False tergantung kondisi."
   ]
  },
  {
   "cell_type": "code",
   "execution_count": 33,
   "metadata": {},
   "outputs": [
    {
     "name": "stdout",
     "output_type": "stream",
     "text": [
      "Operator sama dengan : False\n",
      "Operator tidak sama dengan : True\n",
      "Operator lebih besar dari : False\n",
      "Operator lebih kecil dari : False\n",
      "Operator lebih besar atau sama dengan : True\n",
      "Operator lebih kecil atau sama dengan : False\n"
     ]
    }
   ],
   "source": [
    "a = 21\n",
    "b = 12\n",
    "\n",
    "#Sama dengan ==\n",
    "print(\"Operator sama dengan :\", a == b)\n",
    "\n",
    "#Tidak sama dengan !=\n",
    "print(\"Operator tidak sama dengan :\", a != b)\n",
    "\n",
    "#Lebih besar dari >\n",
    "print(\"Operator lebih besar dari :\", a < b)\n",
    "\n",
    "#Lebih kecil dari <\n",
    "print(\"Operator lebih kecil dari :\", a < b)\n",
    "\n",
    "#Lebih besar atau sama dengan >=\n",
    "print(\"Operator lebih besar atau sama dengan :\", a >= b)\n",
    "\n",
    "#Lebih kecil atau sama dengan <=\n",
    "print(\"Operator lebih kecil atau sama dengan :\", a <= b)"
   ]
  },
  {
   "cell_type": "markdown",
   "metadata": {},
   "source": [
    "### Operator Penugasan\n",
    "\n",
    "Operator penugasan adalah operator yang digunakan untuk memberi nilai ke variabel. a = 7 adalah contoh operator penugasan yang memberi nilai 7 di kanan ke variabel a yang ada di kiri."
   ]
  },
  {
   "cell_type": "code",
   "execution_count": 34,
   "metadata": {},
   "outputs": [
    {
     "name": "stdout",
     "output_type": "stream",
     "text": [
      "nilai a dengan operator += : 44\n",
      "nilai a dengan operator += : 28\n",
      "nilai a dengan operator += : 448\n",
      "nilai a dengan operator += : 28.0\n",
      "nilai a dengan operator += : 1.4273434994667495e+23\n",
      "nilai a dengan operator += : 8.920896871667184e+21\n",
      "nilai a dengan operator += : 5.57556054479199e+20\n"
     ]
    }
   ],
   "source": [
    "a = 28\n",
    "b = 16\n",
    "\n",
    "a += b\n",
    "print(\"nilai a dengan operator += :\", a)\n",
    "\n",
    "a -= b\n",
    "print(\"nilai a dengan operator += :\", a)\n",
    "\n",
    "a *= b\n",
    "print(\"nilai a dengan operator += :\", a)\n",
    "\n",
    "a /= b\n",
    "print(\"nilai a dengan operator += :\", a)\n",
    "\n",
    "a **= b\n",
    "print(\"nilai a dengan operator += :\", a)\n",
    "\n",
    "a //= b\n",
    "print(\"nilai a dengan operator += :\", a)\n",
    "\n",
    "a //= b\n",
    "print(\"nilai a dengan operator += :\", a)\n"
   ]
  },
  {
   "cell_type": "markdown",
   "metadata": {},
   "source": [
    "### Operator Logika\n",
    "\n",
    "Operator logika adalah operator yang digunakan untuk melakukan operasi logika."
   ]
  },
  {
   "cell_type": "code",
   "execution_count": 38,
   "metadata": {},
   "outputs": [
    {
     "name": "stdout",
     "output_type": "stream",
     "text": [
      "operator logika and :  False\n",
      "operator logika or :  True\n",
      "operator logika not :  True\n"
     ]
    }
   ],
   "source": [
    "a = True\n",
    "b = False\n",
    "#and : Hasilnya adalah True jika kedua operandnya bernilai benar\n",
    "(print(\"operator logika and : \", (a and b)))\n",
    "#or : Hasilnya adalah True jika salah satu atau kedua operandnya bernilai benar\n",
    "(print(\"operator logika or : \", (a or b)))\n",
    "#not : Hasilnya adalah True jika operandnya bernilai salah (kebalikan nilai)\n",
    "(print(\"operator logika not : \", (not b)))"
   ]
  },
  {
   "cell_type": "markdown",
   "metadata": {},
   "source": [
    "### Operator Bitwise\n",
    "\n",
    "Operator bitwise adalah operator yang melakukan operasi bit terhadap operand. Operator ini beroperasi bit per bit sesuai dengan namanya. Sebagai misal, angka 2 dalam bit ditulis 10 dalam notasi biner dan angka 7 ditulis 111.\n",
    "angka1 14 (0000 1110)\n",
    "angka2 40 (0010 1000)"
   ]
  },
  {
   "cell_type": "code",
   "execution_count": 39,
   "metadata": {},
   "outputs": [
    {
     "name": "stdout",
     "output_type": "stream",
     "text": [
      "8\n",
      "46\n",
      "38\n",
      "0\n",
      "15393162788864\n"
     ]
    }
   ],
   "source": [
    "angka1 = 14\n",
    "angka2 = 40\n",
    "\n",
    "#Bitwise and (&)\n",
    "print(angka1 & angka2)\n",
    "#Bitwise or (|)\n",
    "print(angka1 | angka2)\n",
    "#Bitwise xor (^)\n",
    "print(angka1 ^ angka2)\n",
    "#Bitwise right shift (>>)\n",
    "print(angka1 >> angka2)\n",
    "#Bitwise left shift (<<)\n",
    "print(angka1 << angka2)"
   ]
  },
  {
   "cell_type": "markdown",
   "metadata": {},
   "source": [
    "# Percabangan\n",
    "\n",
    "Percabangan adalah cara yang digunakan untuk mengambil keputusan apabila di dalam program dihadapkan pada kondisi tertentu. Jumlah kondisinya bisa satu, dua atau lebih. Percabangan mengevaluasi kondisi atau ekspresi yang hasilnya benar atau salah .  Kondisi atau ekspresi tersebut disebut ekspresi boolean. Hasil dari pengecekan kondisi adalah True atau False. Bila benar (True), maka pernyataan yang ada di dalam blok kondisi tersebut akan dieksekusi. Bila salah (False), maka blok pernyataan lain yang dieksekusi.\n",
    "\n",
    "Di Python ada 3 jenis pernyataan yang digunakan untuk percabangan, yaitu sebagai berikut:​\n",
    "- if : Pernyataan if terdiri dari ekspresi booleandiikuti oleh satu baris atau lebih pernyataan.\n",
    "- if ... else : Bila pernyataan if benar, maka blok pernyataan if dieksekusi. Bila salah, maka blok pernyataan else yang dieksekusi.\n",
    "- if ... elif... else : Disebut juga if bercabang. Bila ada kemungkinan beberapa kondisi bisa benar maka digunakan pernyataan if…elif atau if…elif…else\n",
    "    "
   ]
  },
  {
   "cell_type": "markdown",
   "metadata": {},
   "source": [
    "### Pernyataan if\n",
    "\n",
    "Pernyataan if menguji satu buah kondisi. Bila hasilnya benar maka pernyataan di dalam blok if tersebut dieksekusi. Bila salah, maka pernyataan tidak dieksekusi."
   ]
  },
  {
   "cell_type": "code",
   "execution_count": 40,
   "metadata": {},
   "outputs": [
    {
     "name": "stdout",
     "output_type": "stream",
     "text": [
      "5 adalah bilangan positif.\n"
     ]
    }
   ],
   "source": [
    "# Bila bilangan positif, tampilkan pesan\n",
    "\n",
    "angka = 5\n",
    "if angka > 0:\n",
    "    print(angka, \"adalah bilangan positif.\")\n",
    "\n",
    "angka = -1\n",
    "# yang berikut akan bernilai False sehingga tidak dieksekusi\n",
    "if angka > 0:\n",
    "    print(angka, \"adalah bilangan positif.\")"
   ]
  },
  {
   "cell_type": "markdown",
   "metadata": {},
   "source": [
    "### Pernyataan if…else\n",
    "\n",
    "Pernyataan if…else menguji 2 kondisi. Kondisi pertama kalau benar, dan kondisi kedua kalau salah."
   ]
  },
  {
   "cell_type": "code",
   "execution_count": 41,
   "metadata": {},
   "outputs": [
    {
     "name": "stdout",
     "output_type": "stream",
     "text": [
      "Positif atau Nol\n"
     ]
    }
   ],
   "source": [
    "# Program menguji apakah sebuah bilangan positif atau negatif\n",
    "# dan menampilkan pesan ke monitor\n",
    "\n",
    "bilangan = 5\n",
    "\n",
    "if bilangan >= 0:\n",
    "    print(\"Positif atau Nol\")\n",
    "else:\n",
    "    print(\"Bilangan negatif\")"
   ]
  },
  {
   "cell_type": "markdown",
   "metadata": {},
   "source": [
    "### Pernyataan if…elif…else…\n",
    "\n",
    "Pernyataan if…elif…else digunakan untuk menguji lebih dari 2 kondisi. Bila kondisi pada if benar, maka pernyataan di dalamnya yang dieksekusi. Bila salah, maka masuk ke pengujian kondisi elif. Terakhir bila tidak ada if atau elif yang benar, maka yang dijalankan adalah yang di blok else. "
   ]
  },
  {
   "cell_type": "code",
   "execution_count": 42,
   "metadata": {},
   "outputs": [
    {
     "name": "stdout",
     "output_type": "stream",
     "text": [
      "Bilangan positif\n"
     ]
    }
   ],
   "source": [
    "# Di sini kita menguji apakah sebuah bilangan adalah bilangan positif, nol, atau negatif\n",
    "bilangan = 5.5\n",
    "\n",
    "if bilangan > 0:\n",
    "    print(\"Bilangan positif\")\n",
    "elif bilangan == 0:\n",
    "    print(\"Nol\")\n",
    "else:\n",
    "    print(\"Bilangan negatif\")"
   ]
  },
  {
   "cell_type": "markdown",
   "metadata": {},
   "source": [
    "# Perulangan\n",
    "\n",
    "Secara umum, Python mengeksekusi program baris perbaris. Mulai dari baris satu, dua, dan seterusnya. Ada kalanya, kita perlu mengeksekusi satu baris atau satu blok kode program beberapa kali. Hal ini disebut dengan perulangan atau biasa disebut looping atau iterasi.\n",
    "Di python, perulangan bisa dilakukan dengan dua cara atau metode, yaitu:\n",
    "- Menggunakan for\n",
    "- Menggunakan while"
   ]
  },
  {
   "cell_type": "code",
   "execution_count": 43,
   "metadata": {},
   "outputs": [
    {
     "name": "stdout",
     "output_type": "stream",
     "text": [
      "Jumlah semuanya: 46\n"
     ]
    }
   ],
   "source": [
    "#Perulangan Dengan Menggunakan For\n",
    "\n",
    "# Program untuk menemukan jumlah bilangan dalam satu list\n",
    "\n",
    "# List number\n",
    "numbers = [7, 5, 9, 8, 4, 2, 6, 4, 1]\n",
    "\n",
    "# variablel untuk menyimpan jumlah\n",
    "\n",
    "sum = 0\n",
    "\n",
    "# iterasi\n",
    "for each in numbers:\n",
    "    sum = sum + each\n",
    "\n",
    "# Output: Jumlah semuanya: 46\n",
    "print(\"Jumlah semuanya:\", sum)"
   ]
  },
  {
   "cell_type": "code",
   "execution_count": 44,
   "metadata": {},
   "outputs": [
    {
     "name": "stdout",
     "output_type": "stream",
     "text": [
      "The count is: 0\n",
      "The count is: 1\n",
      "The count is: 2\n",
      "The count is: 3\n",
      "The count is: 4\n",
      "Good bye!\n"
     ]
    }
   ],
   "source": [
    "#Perulangan Dengan Menggunakan While\n",
    "\n",
    "count = 0\n",
    "while (count < 5):\n",
    "    print('The count is:', count)\n",
    "    count = count + 1\n",
    "print('Good bye!')"
   ]
  },
  {
   "cell_type": "code",
   "execution_count": null,
   "metadata": {},
   "outputs": [],
   "source": []
  }
 ],
 "metadata": {
  "kernelspec": {
   "display_name": "Python 3",
   "language": "python",
   "name": "python3"
  },
  "language_info": {
   "codemirror_mode": {
    "name": "ipython",
    "version": 3
   },
   "file_extension": ".py",
   "mimetype": "text/x-python",
   "name": "python",
   "nbconvert_exporter": "python",
   "pygments_lexer": "ipython3",
   "version": "3.6.2"
  }
 },
 "nbformat": 4,
 "nbformat_minor": 2
}
